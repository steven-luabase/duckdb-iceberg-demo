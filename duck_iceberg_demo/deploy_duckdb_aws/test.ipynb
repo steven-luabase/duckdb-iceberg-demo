{
 "cells": [
  {
   "cell_type": "code",
   "execution_count": 15,
   "metadata": {},
   "outputs": [],
   "source": [
    "# create the schema and views of iceberg tables in duckdb\n",
    "warehouse_path = \"s3://iceberg-duckdb-demo/iceberg-catalog/\"\n",
    "name_space = 'taxi'\n",
    "\n",
    "database_path = f'{warehouse_path}{name_space}.db'\n",
    "\n",
    "create_view_sql = f'''\n",
    "CREATE SCHEMA IF NOT EXISTS taxi;\n",
    "\n",
    "CREATE VIEW taxi.trips AS\n",
    "SELECT * FROM iceberg_scan('{database_path}/trips', allow_moved_paths = true);\n",
    "\n",
    "CREATE VIEW taxi.zones AS\n",
    "SELECT * FROM iceberg_scan('{database_path}/zones', allow_moved_paths = true);\n",
    "'''"
   ]
  },
  {
   "cell_type": "code",
   "execution_count": 16,
   "metadata": {},
   "outputs": [
    {
     "name": "stdout",
     "output_type": "stream",
     "text": [
      "\n",
      "CREATE SCHEMA IF NOT EXISTS taxi;\n",
      "\n",
      "CREATE VIEW taxi.trips AS\n",
      "SELECT * FROM iceberg_scan('s3://iceberg-duckdb-demo/iceberg-catalog/taxi.db/trips', allow_moved_paths = true);\n",
      "\n",
      "CREATE VIEW taxi.zones AS\n",
      "SELECT * FROM iceberg_scan('s3://iceberg-duckdb-demo/iceberg-catalog/taxi.db/zones', allow_moved_paths = true);\n",
      "\n"
     ]
    }
   ],
   "source": [
    "print(create_view_sql)"
   ]
  },
  {
   "cell_type": "code",
   "execution_count": 44,
   "metadata": {},
   "outputs": [
    {
     "data": {
      "text/plain": [
       "<duckdb.duckdb.DuckDBPyConnection at 0x1121743b0>"
      ]
     },
     "execution_count": 44,
     "metadata": {},
     "output_type": "execute_result"
    }
   ],
   "source": [
    "import config\n",
    "import boto3 \n",
    "import duckdb\n",
    "from botocore.exceptions import ClientError\n",
    "import json\n",
    "\n",
    "\n",
    "# gets secrets from aws secret manager\n",
    "def get_secret(secret_name, region_name):\n",
    "    session = boto3.session.Session()\n",
    "    client = session.client(\n",
    "        service_name='secretsmanager',\n",
    "        region_name=region_name\n",
    "    )\n",
    "\n",
    "    try:\n",
    "        get_secret_value_response = client.get_secret_value(\n",
    "            SecretId=secret_name\n",
    "        )\n",
    "    except ClientError as e:\n",
    "        raise e\n",
    "\n",
    "    secret = json.loads(get_secret_value_response['SecretString'])\n",
    "    return secret.get('secret_key')\n",
    "\n",
    "\n",
    "# def init_duckdb_connection():\n",
    "#     access_key = config.ACCESS_KEY\n",
    "#     secret_key = get_secret(config.SECRET_KEY_NAME, config.SECRET_REGION)\n",
    "#     con = duckdb.connect()\n",
    "#     setup_sql = f\"\"\"\n",
    "#         INSTALL iceberg;\n",
    "#         LOAD iceberg;\n",
    "\n",
    "#         INSTALL httpfs;\n",
    "#         LOAD httpfs;\n",
    "\n",
    "#         CREATE SECRET (\n",
    "#             TYPE S3,\n",
    "#             KEY_ID '{access_key}',\n",
    "#             SECRET '{secret_key}',\n",
    "#             REGION '{config.S3_BUCKET_REGION}'\n",
    "#         );\n",
    "#     \"\"\"\n",
    "#     con.execute(setup_sql)\n",
    "#     return con\n",
    "\n",
    "access_key = config.ACCESS_KEY\n",
    "secret_key = get_secret(config.SECRET_KEY_NAME, config.SECRET_REGION)\n",
    "con = duckdb.connect()\n",
    "setup_sql = f\"\"\"\n",
    "    INSTALL iceberg;\n",
    "    LOAD iceberg;\n",
    "\n",
    "    INSTALL httpfs;\n",
    "    LOAD httpfs;\n",
    "\n",
    "    CREATE SECRET (\n",
    "        TYPE S3,\n",
    "        KEY_ID '{access_key}',\n",
    "        SECRET '{secret_key}',\n",
    "        REGION '{config.S3_BUCKET_REGION}'\n",
    "    );\n",
    "\"\"\"\n",
    "con.execute(setup_sql)\n"
   ]
  },
  {
   "cell_type": "code",
   "execution_count": 61,
   "metadata": {},
   "outputs": [
    {
     "data": {
      "text/plain": [
       "'{\\n  \"result\": []\\n}\\n'"
      ]
     },
     "execution_count": 61,
     "metadata": {},
     "output_type": "execute_result"
    }
   ],
   "source": [
    "import requests \n",
    "# url = 'http://127.0.0.1:5000/query'\n",
    "url = 'http://18.216.146.210:5000/query'\n",
    "query = {\n",
    "    \"query\": create_view_sql\n",
    "}\n",
    "response = requests.post(url, params=query)\n",
    "response.text"
   ]
  },
  {
   "cell_type": "code",
   "execution_count": 62,
   "metadata": {},
   "outputs": [
    {
     "data": {
      "text/plain": [
       "{'result': [['Bronx', 'Bronx', 38900],\n",
       "  ['Bronx', 'Manhattan', 33779],\n",
       "  ['Bronx', 'Queens', 7179],\n",
       "  ['Bronx', 'Brooklyn', 6943],\n",
       "  ['Bronx', 'N/A', 522],\n",
       "  ['Bronx', 'Unknown', 231],\n",
       "  ['Bronx', 'Staten Island', 163],\n",
       "  ['Bronx', 'EWR', 35],\n",
       "  ['Brooklyn', 'Brooklyn', 181514],\n",
       "  ['Brooklyn', 'Manhattan', 130742],\n",
       "  ['Brooklyn', 'Queens', 43224],\n",
       "  ['Brooklyn', 'Bronx', 6967],\n",
       "  ['Brooklyn', 'N/A', 1002],\n",
       "  ['Brooklyn', 'EWR', 922],\n",
       "  ['Brooklyn', 'Unknown', 896],\n",
       "  ['Brooklyn', 'Staten Island', 643],\n",
       "  ['EWR', 'EWR', 4710],\n",
       "  ['EWR', 'Unknown', 237],\n",
       "  ['EWR', 'N/A', 205],\n",
       "  ['EWR', 'Manhattan', 129]]}"
      ]
     },
     "execution_count": 62,
     "metadata": {},
     "output_type": "execute_result"
    }
   ],
   "source": [
    "import requests \n",
    "\n",
    "sql = f'''\n",
    "select \n",
    "    starting_zone.Borough as pickup_borough,\n",
    "    ending_zone.Borough as dropoff_borough,\n",
    "    count(*) as trip_count\n",
    "from\n",
    "taxi.trips as trips\n",
    "left join taxi.zones as starting_zone\n",
    "    on trips.PULocationID = starting_zone.LocationID\n",
    "left join taxi.zones as ending_zone\n",
    "    on trips.DOLocationID = ending_zone.LocationID\n",
    "group by 1, 2\n",
    "order by 1 asc, 3 desc\n",
    "limit 20\n",
    "'''\n",
    "query = {\n",
    "    \"query\": sql\n",
    "}\n",
    "response = requests.post(url, params=query)\n",
    "response.json()"
   ]
  },
  {
   "cell_type": "code",
   "execution_count": 70,
   "metadata": {},
   "outputs": [
    {
     "data": {
      "text/plain": [
       "{'result': [['Bronx', 'Bronx', 38900],\n",
       "  ['Bronx', 'Manhattan', 33779],\n",
       "  ['Bronx', 'Queens', 7179],\n",
       "  ['Bronx', 'Brooklyn', 6943],\n",
       "  ['Bronx', 'N/A', 522],\n",
       "  ['Bronx', 'Unknown', 231],\n",
       "  ['Bronx', 'Staten Island', 163],\n",
       "  ['Bronx', 'EWR', 35],\n",
       "  ['Brooklyn', 'Brooklyn', 181514],\n",
       "  ['Brooklyn', 'Manhattan', 130742],\n",
       "  ['Brooklyn', 'Queens', 43224],\n",
       "  ['Brooklyn', 'Bronx', 6967],\n",
       "  ['Brooklyn', 'N/A', 1002],\n",
       "  ['Brooklyn', 'EWR', 922],\n",
       "  ['Brooklyn', 'Unknown', 896],\n",
       "  ['Brooklyn', 'Staten Island', 643],\n",
       "  ['EWR', 'EWR', 4710],\n",
       "  ['EWR', 'Unknown', 237],\n",
       "  ['EWR', 'N/A', 205],\n",
       "  ['EWR', 'Manhattan', 129]]}"
      ]
     },
     "execution_count": 70,
     "metadata": {},
     "output_type": "execute_result"
    }
   ],
   "source": [
    "import requests \n",
    "\n",
    "sql = f'''\n",
    "select \n",
    "    starting_zone.Borough as pickup_borough,\n",
    "    ending_zone.Borough as dropoff_borough,\n",
    "    count(*) as trip_count\n",
    "from\n",
    "taxi.trips as trips\n",
    "left join taxi.zones as starting_zone\n",
    "    on trips.PULocationID = starting_zone.LocationID\n",
    "left join taxi.zones as ending_zone\n",
    "    on trips.DOLocationID = ending_zone.LocationID\n",
    "group by 1, 2\n",
    "order by 1 asc, 3 desc\n",
    "limit 20\n",
    "'''\n",
    "\n",
    "query = {\n",
    "    \"query\": sql\n",
    "}\n",
    "response = requests.post(url, params=query)\n",
    "response.json()"
   ]
  },
  {
   "cell_type": "code",
   "execution_count": null,
   "metadata": {},
   "outputs": [],
   "source": []
  },
  {
   "cell_type": "code",
   "execution_count": 64,
   "metadata": {},
   "outputs": [
    {
     "data": {
      "text/plain": [
       "{'result': [[41994806]]}"
      ]
     },
     "execution_count": 64,
     "metadata": {},
     "output_type": "execute_result"
    }
   ],
   "source": [
    "import requests \n",
    "\n",
    "sql = f'''\n",
    "select \n",
    "    count(*)\n",
    "from taxi.trips\n",
    "'''\n",
    "\n",
    "query = {\n",
    "    \"query\": sql\n",
    "}\n",
    "response = requests.post(url, params=query)\n",
    "response.json()"
   ]
  },
  {
   "cell_type": "code",
   "execution_count": 65,
   "metadata": {},
   "outputs": [
    {
     "data": {
      "text/plain": [
       "{'result': [[41994806]]}"
      ]
     },
     "execution_count": 65,
     "metadata": {},
     "output_type": "execute_result"
    }
   ],
   "source": [
    "import requests \n",
    "\n",
    "sql = f'''\n",
    "select \n",
    "    count(*)\n",
    "from iceberg_scan('{database_path}/trips', allow_moved_paths = true);\n",
    "'''\n",
    "\n",
    "query = {\n",
    "    \"query\": sql\n",
    "}\n",
    "response = requests.post(url, params=query)\n",
    "response.json()"
   ]
  },
  {
   "cell_type": "code",
   "execution_count": 66,
   "metadata": {},
   "outputs": [
    {
     "data": {
      "text/plain": [
       "{'result': [['Sat, 01 Apr 2023 00:00:00 GMT',\n",
       "   1.3828223099929224,\n",
       "   4.096190325722789,\n",
       "   13468941.469999624,\n",
       "   28.26947759882149,\n",
       "   92954650.26977366,\n",
       "   3288163],\n",
       "  ['Mon, 01 May 2023 00:00:00 GMT',\n",
       "   1.3588013955991263,\n",
       "   4.345793046802145,\n",
       "   15269656.579999011,\n",
       "   28.96293478253187,\n",
       "   101766021.27973007,\n",
       "   3513664],\n",
       "  ['Thu, 01 Jun 2023 00:00:00 GMT',\n",
       "   1.3690120759300761,\n",
       "   4.36875410120578,\n",
       "   14448601.319999726,\n",
       "   29.068591310734654,\n",
       "   96137360.22974898,\n",
       "   3307259],\n",
       "  ['Sat, 01 Jul 2023 00:00:00 GMT',\n",
       "   1.4019610865600263,\n",
       "   4.489436884199477,\n",
       "   13051210.539998109,\n",
       "   28.568067928964304,\n",
       "   83050030.29981662,\n",
       "   2907093],\n",
       "  ['Tue, 01 Aug 2023 00:00:00 GMT',\n",
       "   1.38697920378319,\n",
       "   4.782777107578069,\n",
       "   13507523.889999092,\n",
       "   28.628029520532756,\n",
       "   80851309.59991813,\n",
       "   2824201],\n",
       "  ['Fri, 01 Sep 2023 00:00:00 GMT',\n",
       "   1.3564035830565937,\n",
       "   4.274258174522569,\n",
       "   12167705.989998553,\n",
       "   29.781914452319462,\n",
       "   84781396.92991036,\n",
       "   2846741],\n",
       "  ['Sun, 01 Oct 2023 00:00:00 GMT',\n",
       "   1.3597251836761362,\n",
       "   3.9266870133990124,\n",
       "   13830847.939997926,\n",
       "   29.171275084275646,\n",
       "   102749077.9198165,\n",
       "   3522269],\n",
       "  ['Wed, 01 Nov 2023 00:00:00 GMT',\n",
       "   1.3580133929685045,\n",
       "   3.63273304047501,\n",
       "   12132351.149998646,\n",
       "   28.69579235268748,\n",
       "   95836227.2898333,\n",
       "   3339731],\n",
       "  ['Fri, 01 Dec 2023 00:00:00 GMT',\n",
       "   1.4081602135312812,\n",
       "   3.676252171973559,\n",
       "   12413001.479999084,\n",
       "   28.541505059719633,\n",
       "   96371447.86983055,\n",
       "   3376537],\n",
       "  ['Mon, 01 Jan 2024 00:00:00 GMT',\n",
       "   1.3392774763043285,\n",
       "   3.6521750758859746,\n",
       "   10827322.229998305,\n",
       "   26.80159965023988,\n",
       "   79456638.7598931,\n",
       "   2964623],\n",
       "  ['Thu, 01 Feb 2024 00:00:00 GMT',\n",
       "   1.3259429828524734,\n",
       "   3.860857653099522,\n",
       "   11611656.799999364,\n",
       "   26.62441183850919,\n",
       "   80073797.20990705,\n",
       "   3007533],\n",
       "  ['Fri, 01 Mar 2024 00:00:00 GMT',\n",
       "   1.3376235299410313,\n",
       "   4.517420758212043,\n",
       "   16184161.299998807,\n",
       "   27.120594200658726,\n",
       "   97162539.10981616,\n",
       "   3582611],\n",
       "  ['Mon, 01 Apr 2024 00:00:00 GMT',\n",
       "   1.3341420598086233,\n",
       "   5.283849853255352,\n",
       "   18568938.429997925,\n",
       "   27.49342471088735,\n",
       "   96619647.57982662,\n",
       "   3514282]]}"
      ]
     },
     "execution_count": 66,
     "metadata": {},
     "output_type": "execute_result"
    }
   ],
   "source": [
    "import requests \n",
    "\n",
    "sql = f'''\n",
    "select \n",
    "    date_trunc('month', tpep_pickup_datetime) as month,\n",
    "    avg(passenger_count) as avg_passenger_count,\n",
    "    avg(trip_distance) as avg_trip_distance,\n",
    "    sum(trip_distance) as total_trip_distance,\n",
    "    avg(total_amount) as avg_total_amount,\n",
    "    sum(total_amount) as total_amount,\n",
    "    count(*) as total_trips\n",
    "from taxi.trips\n",
    "-- some data pre and post our target date range is in the dataset, so we filter it out\n",
    "where tpep_pickup_datetime between '2023-04-01' and '2024-05-01'\n",
    "group by 1\n",
    "order by 1\n",
    "'''\n",
    "\n",
    "query = {\n",
    "    \"query\": sql\n",
    "}\n",
    "response = requests.post(url, params=query)\n",
    "response.json()"
   ]
  },
  {
   "cell_type": "code",
   "execution_count": 71,
   "metadata": {},
   "outputs": [
    {
     "data": {
      "text/plain": [
       "20"
      ]
     },
     "execution_count": 71,
     "metadata": {},
     "output_type": "execute_result"
    }
   ],
   "source": [
    "len(response.json()['result'])"
   ]
  },
  {
   "cell_type": "code",
   "execution_count": 69,
   "metadata": {},
   "outputs": [
    {
     "data": {
      "text/plain": [
       "{'result': [['Manhattan', 37176949, 922731898.1879705],\n",
       "  ['Queens', 2254654, 121335533.93970689],\n",
       "  ['Brooklyn', 1623715, 81354331.42998819],\n",
       "  ['Unknown', 367291, 10740173.809998704],\n",
       "  ['Bronx', 253341, 13218865.089996865],\n",
       "  ['N/A', 182458, 21679919.79999616],\n",
       "  ['EWR', 125164, 15625457.64000111],\n",
       "  ['Staten Island', 11237, 1127515.209999987]]}"
      ]
     },
     "execution_count": 69,
     "metadata": {},
     "output_type": "execute_result"
    }
   ],
   "source": [
    "import requests \n",
    "\n",
    "sql = f'''\n",
    "select \n",
    "    zones.Borough,\n",
    "    count(*) as total_trips,\n",
    "    sum(total_amount) as total_amount\n",
    "from taxi.zones as zones\n",
    "left join taxi.trips as trips\n",
    "    on zones.LocationID = trips.DOLocationID\n",
    "group by 1 \n",
    "order by 2 desc\n",
    "limit 20\n",
    "'''\n",
    "\n",
    "# url = 'https://duck-iceberg-demo-rn5klrouba-ue.a.run.app/query'\n",
    "query = {\n",
    "    \"query\": sql\n",
    "}\n",
    "response = requests.post(url, params=query)\n",
    "response.json()"
   ]
  },
  {
   "cell_type": "code",
   "execution_count": 68,
   "metadata": {},
   "outputs": [
    {
     "data": {
      "text/plain": [
       "8"
      ]
     },
     "execution_count": 68,
     "metadata": {},
     "output_type": "execute_result"
    }
   ],
   "source": [
    "len(response.json()['result'])"
   ]
  },
  {
   "cell_type": "code",
   "execution_count": null,
   "metadata": {},
   "outputs": [],
   "source": []
  }
 ],
 "metadata": {
  "kernelspec": {
   "display_name": ".venv",
   "language": "python",
   "name": "python3"
  },
  "language_info": {
   "codemirror_mode": {
    "name": "ipython",
    "version": 3
   },
   "file_extension": ".py",
   "mimetype": "text/x-python",
   "name": "python",
   "nbconvert_exporter": "python",
   "pygments_lexer": "ipython3",
   "version": "3.10.11"
  }
 },
 "nbformat": 4,
 "nbformat_minor": 2
}
